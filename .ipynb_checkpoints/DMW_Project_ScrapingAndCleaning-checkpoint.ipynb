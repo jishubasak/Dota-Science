{
 "cells": [
  {
   "cell_type": "code",
   "execution_count": 60,
   "metadata": {
    "ExecuteTime": {
     "end_time": "2019-07-19T15:26:51.123242Z",
     "start_time": "2019-07-19T15:26:51.113640Z"
    }
   },
   "outputs": [],
   "source": [
    "import pandas as pd\n",
    "import numpy as np\n",
    "import requests\n",
    "from bs4 import BeautifulSoup\n",
    "from selenium import webdriver\n",
    "import sqlite3\n",
    "from time import sleep\n",
    "import re\n",
    "import warnings\n",
    "warnings.filterwarnings(\"ignore\")"
   ]
  },
  {
   "cell_type": "markdown",
   "metadata": {},
   "source": [
    "### Getting player ids of verified players from Dotabuff"
   ]
  },
  {
   "cell_type": "markdown",
   "metadata": {
    "ExecuteTime": {
     "end_time": "2019-07-19T09:46:37.576496Z",
     "start_time": "2019-07-19T09:46:33.582660Z"
    }
   },
   "source": [
    "```python\n",
    "headers = {\n",
    "    'user-agent': 'Mozilla/5.0 (Windows NT 10.0; Win64; x64) AppleWebKit/'\n",
    "    '537.36 (KHTML, like Gecko) Chrome/75.0.3770.100 Safari/537.36'}\n",
    "source = requests.get('https://www.dotabuff.com/players', headers=headers)\n",
    "soup = BeautifulSoup(source.text, 'lxml')\n",
    "pids = [i['href'].split(\"/\")[2] for i in soup.select('td a.link-type-player')]\n",
    "```"
   ]
  },
  {
   "cell_type": "markdown",
   "metadata": {},
   "source": [
    "### Pickup where we left"
   ]
  },
  {
   "cell_type": "code",
   "execution_count": 164,
   "metadata": {
    "ExecuteTime": {
     "end_time": "2019-07-19T17:20:21.612268Z",
     "start_time": "2019-07-19T17:20:21.603749Z"
    }
   },
   "outputs": [],
   "source": [
    "def pickup_impact(pid_list):\n",
    "    try:\n",
    "        pids_impact = pd.read_sql('''SELECT DISTINCT PID FROM Impact''', \n",
    "                                  conn)['PID'].unique()\n",
    "        new_impact = [i for i in pids if i not in pids_impact]   \n",
    "    except:\n",
    "        new_impact = pid_list  \n",
    "    return new_impact"
   ]
  },
  {
   "cell_type": "code",
   "execution_count": 10,
   "metadata": {
    "ExecuteTime": {
     "end_time": "2019-07-19T06:18:45.776401Z",
     "start_time": "2019-07-19T06:18:45.768254Z"
    }
   },
   "outputs": [],
   "source": [
    "def pickup_economy(pid_list):\n",
    "    try:\n",
    "        pids_economy = pd.read_sql('''SELECT DISTINCT PID FROM Economy''', \n",
    "                                   conn)['PID'].unique()\n",
    "        new_economy = [i for i in pids if i not in pids_economy]   \n",
    "    except:\n",
    "        new_economy = pid_list  \n",
    "    return new_economy"
   ]
  },
  {
   "cell_type": "code",
   "execution_count": 11,
   "metadata": {
    "ExecuteTime": {
     "end_time": "2019-07-19T06:18:45.975671Z",
     "start_time": "2019-07-19T06:18:45.968175Z"
    }
   },
   "outputs": [],
   "source": [
    "def pickup_played(pid_list):\n",
    "    try:\n",
    "        pids_played = pd.read_sql('''SELECT DISTINCT PID FROM Played''', \n",
    "                                  conn)['PID'].unique()\n",
    "        new_played = [i for i in pids if i not in pids_played]   \n",
    "    except:\n",
    "        new_played = pid_list  \n",
    "    return new_played"
   ]
  },
  {
   "cell_type": "code",
   "execution_count": 12,
   "metadata": {
    "ExecuteTime": {
     "end_time": "2019-07-19T09:25:23.142798Z",
     "start_time": "2019-07-19T09:25:23.135855Z"
    }
   },
   "outputs": [],
   "source": [
    "def pickup_itemeco(pid_list):\n",
    "    try:\n",
    "        pids_itemeco = pd.read_sql('''SELECT DISTINCT PID FROM ItemEco''', \n",
    "                                   conn)['PID'].unique()\n",
    "        new_itemeco = [i for i in pids if i not in pids_itemeco]   \n",
    "    except:\n",
    "        new_itemeco = pid_list  \n",
    "    return new_itemeco"
   ]
  },
  {
   "cell_type": "code",
   "execution_count": 163,
   "metadata": {
    "ExecuteTime": {
     "end_time": "2019-07-19T17:19:29.970556Z",
     "start_time": "2019-07-19T17:19:29.959924Z"
    }
   },
   "outputs": [],
   "source": [
    "def pickup_itemmain(pid_list):\n",
    "    try:\n",
    "        pids_itemmain = pd.read_sql('''SELECT DISTINCT PID FROM ItemMain''', \n",
    "                                    conn)['PID'].unique()\n",
    "        new_itemmain = [i for i in pids if i not in pids_itemmain]   \n",
    "    except:\n",
    "        new_itemmain = pid_list  \n",
    "    return new_itemmain"
   ]
  },
  {
   "cell_type": "markdown",
   "metadata": {},
   "source": [
    "## Scraping using Selenium"
   ]
  },
  {
   "cell_type": "code",
   "execution_count": 2,
   "metadata": {
    "ExecuteTime": {
     "end_time": "2019-07-19T09:11:00.920243Z",
     "start_time": "2019-07-19T09:11:00.912161Z"
    }
   },
   "outputs": [],
   "source": [
    "chrome_path = r'C:\\Users\\jedda\\Downloads\\chromedriver.exe'\n",
    "conn = sqlite3.connect('dota.db')"
   ]
  },
  {
   "cell_type": "markdown",
   "metadata": {},
   "source": [
    "### Impact"
   ]
  },
  {
   "cell_type": "markdown",
   "metadata": {
    "ExecuteTime": {
     "end_time": "2019-07-19T08:00:20.676227Z",
     "start_time": "2019-07-19T07:59:49.481424Z"
    }
   },
   "source": [
    "```python\n",
    "pids_impact = pickup_impact(pids)\n",
    "driver = webdriver.Chrome(chrome_path)\n",
    "for p in pids_impact:\n",
    "    driver.get('https://www.dotabuff.com/players/'+p+'/heroes?metric=impact')\n",
    "    query = driver.find_elements_by_xpath(\n",
    "        '/html/body/div[1]/div[8]/div[3]/section/article/table/tbody/*')\n",
    "    rows = [tuple(i.text.split('\\n')) for i in query]\n",
    "    header = ['Hero', 'Date', 'KDA Ratio', 'Kills', 'Death', 'Assists']\n",
    "    impactdb = pd.DataFrame(rows, columns=header)\n",
    "    impactdb.drop(columns='Date', inplace=True)\n",
    "    impactdb['PID'] = p\n",
    "    impactdb.to_sql('Impact', conn, if_exists='append')\n",
    "    sleep(2)\n",
    "driver.close()\n",
    "```"
   ]
  },
  {
   "cell_type": "markdown",
   "metadata": {},
   "source": [
    "### Economy"
   ]
  },
  {
   "cell_type": "markdown",
   "metadata": {
    "ExecuteTime": {
     "end_time": "2019-07-19T08:01:41.218377Z",
     "start_time": "2019-07-19T08:01:17.042471Z"
    }
   },
   "source": [
    "```python\n",
    "pids_economy = pickup_economy(pids)\n",
    "driver = webdriver.Chrome(chrome_path)\n",
    "for p in pids_economy:\n",
    "    driver.get('https://www.dotabuff.com/players/'+p+'/heroes?metric=economy')\n",
    "    query = driver.find_elements_by_xpath(\n",
    "        '/html/body/div[1]/div[8]/div[3]/section/article/table/tbody/*')\n",
    "    rows = [tuple(i.text.split('\\n')) for i in query]\n",
    "    header = ['Hero', 'Date', 'GPM', 'XPM']\n",
    "    economydb = pd.DataFrame(rows, columns=header)\n",
    "    economydb.drop(columns='Date', inplace=True)\n",
    "    economydb['PID'] = p\n",
    "    economydb.to_sql('Economy', conn, if_exists='append')\n",
    "    sleep(2)\n",
    "driver.close()\n",
    "```"
   ]
  },
  {
   "cell_type": "markdown",
   "metadata": {},
   "source": [
    "### Played"
   ]
  },
  {
   "cell_type": "markdown",
   "metadata": {
    "ExecuteTime": {
     "end_time": "2019-07-19T08:04:51.333992Z",
     "start_time": "2019-07-19T08:04:48.243475Z"
    }
   },
   "source": [
    "```python\n",
    "pids_played = pickup_played(pids)\n",
    "driver = webdriver.Chrome(chrome_path)\n",
    "for p in pids_played:\n",
    "    driver.get('https://www.dotabuff.com/players/'+p+'/heroes?metric=played')\n",
    "    query = driver.find_elements_by_xpath(\n",
    "        '/html/body/div[1]/div[8]/div[3]/section/article/table/tbody/*')\n",
    "    rows = [tuple(i.text.split('\\n')) for i in query]\n",
    "    header = ['Hero', 'Date', 'Matches',\n",
    "              'Win Rate', 'KDA Ratio', 'Core', 'Safe']\n",
    "    playeddb = pd.DataFrame(rows, columns=header)\n",
    "    playeddb.drop(columns=['Date', 'Core', 'Safe'], inplace=True)\n",
    "    playeddb['PID'] = p\n",
    "    playeddb.to_sql('Played', conn, if_exists='append')\n",
    "    sleep(2)\n",
    "driver.close()\n",
    "```"
   ]
  },
  {
   "cell_type": "markdown",
   "metadata": {},
   "source": [
    "### Item Economy"
   ]
  },
  {
   "cell_type": "markdown",
   "metadata": {
    "ExecuteTime": {
     "end_time": "2019-07-19T19:23:30.043524Z",
     "start_time": "2019-07-19T19:23:30.031372Z"
    }
   },
   "source": [
    "```python\n",
    "pids_itemeco = pickup_itemeco(pids)\n",
    "driver = webdriver.Chrome(chrome_path)\n",
    "for p in pids_itemeco:\n",
    "    driver.get('https://www.dotabuff.com/players/'+p+'/items?metric=economy')\n",
    "    query = driver.find_elements_by_xpath(\n",
    "        '/html/body/div[1]/div[8]/div[3]/section/article/table/tbody/*')\n",
    "    raw = [i.text.split('\\n') for i in query]\n",
    "    rows = [[(i, j, r[1]) for i, j in re.findall(\n",
    "        r'(.*)\\s(.*?\\d+)$', r[0])][0] for r in raw]\n",
    "    header = ['Item', 'GPM', 'XPM']\n",
    "    itemecodb = pd.DataFrame(rows, columns=header)\n",
    "    itemecodb['PID'] = p\n",
    "    itemecodb.to_sql('ItemEco', conn, if_exists='append')\n",
    "    sleep(2)\n",
    "driver.close()\n",
    "```"
   ]
  },
  {
   "cell_type": "markdown",
   "metadata": {},
   "source": [
    "### Item Main"
   ]
  },
  {
   "cell_type": "markdown",
   "metadata": {
    "ExecuteTime": {
     "end_time": "2019-07-19T17:17:39.148355Z",
     "start_time": "2019-07-19T17:15:15.993556Z"
    }
   },
   "source": [
    "```python\n",
    "pids_itemmain = pickup_itemmain(pids)\n",
    "driver = webdriver.Chrome(chrome_path)\n",
    "for p in pids_itemmain:\n",
    "    driver.get('https://www.dotabuff.com/players/'+p+'/items?metric=used')\n",
    "    query = driver.find_elements_by_xpath(\n",
    "        '/html/body/div[1]/div[8]/div[3]/section/article/table/tbody/*')\n",
    "    raw = [i.text.split('\\n')[:3] for i in query]\n",
    "    rows = [[(re.sub(r'\\s\\(level \\d+\\)$', '', i), j, r[1], r[2])\n",
    "            for i, j in re.findall(r'(.*)\\s(.*?\\d+)$', r[0])][0] for r in raw]\n",
    "    header = ['Item', 'Matches', 'WinRate', 'KDA_Ratio']\n",
    "    itemmaindb = pd.DataFrame(rows, columns=header)\n",
    "    itemmaindb['PID'] = p\n",
    "    itemmaindb.to_sql('ItemMain', conn, if_exists='append')\n",
    "    sleep(2)\n",
    "driver.close()\n",
    "```"
   ]
  },
  {
   "cell_type": "markdown",
   "metadata": {},
   "source": [
    "### Cleaning up data (removing commas and % and removed heroes)"
   ]
  },
  {
   "cell_type": "code",
   "execution_count": 166,
   "metadata": {
    "ExecuteTime": {
     "end_time": "2019-07-19T17:31:06.295383Z",
     "start_time": "2019-07-19T17:31:05.453423Z"
    }
   },
   "outputs": [],
   "source": [
    "conn.executescript('''\n",
    "            UPDATE Impact\n",
    "            SET Kills = REPLACE(Kills, ',', ''),\n",
    "                Death = REPLACE(Death, ',', ''),\n",
    "                Assists = REPLACE(Assists, ',', '');\n",
    "                \n",
    "            DELETE FROM Impact\n",
    "            WHERE Hero LIKE \"Removed%\";\n",
    "                \n",
    "            UPDATE Economy\n",
    "            SET GPM = REPLACE(GPM, ',', ''),\n",
    "                XPM = REPLACE(XPM, ',', '');\n",
    "                \n",
    "            DELETE FROM Economy\n",
    "            WHERE Hero LIKE \"Removed%\";\n",
    "                \n",
    "            UPDATE Played\n",
    "            SET Matches = REPLACE(Matches, ',', ''),\n",
    "                \"Win Rate\" = REPLACE(\"Win Rate\", '%', '');\n",
    "                \n",
    "            DELETE FROM Played\n",
    "            WHERE Hero LIKE \"Removed%\";\n",
    "                \n",
    "            UPDATE ItemEco\n",
    "            SET GPM = REPLACE(GPM, ',', ''),\n",
    "                XPM = REPLACE(XPM, ',', '');\n",
    "                \n",
    "            DELETE FROM ItemEco\n",
    "            WHERE Item LIKE \"Removed%\" OR Item LIKE \"Recipe%\"\n",
    "            OR Item LIKE \"Refresher Shard%\" OR Item LIKE \"River Vial%\";\n",
    "            \n",
    "            UPDATE ItemMain\n",
    "            SET Matches = REPLACE(Matches, ',', ''),\n",
    "                WinRate = REPLACE(\"Win Rate\", '%', '');\n",
    "                \n",
    "            DELETE FROM ItemMain\n",
    "            WHERE Item LIKE \"Removed%\" OR Item LIKE \"Recipe%\"\n",
    "            OR Item LIKE \"Refresher Shard%\" OR Item LIKE \"River Vial%\";\n",
    "            ''')\n",
    "conn.commit();"
   ]
  },
  {
   "cell_type": "markdown",
   "metadata": {},
   "source": [
    "# ITAY Eto po yung tables to copy:\n",
    "## Pacheck na lang po conn names"
   ]
  },
  {
   "cell_type": "code",
   "execution_count": null,
   "metadata": {},
   "outputs": [],
   "source": [
    "pd.read_sql('''SELECT * FROM Impact''', conn).to_sql('impact', connfinal)\n",
    "pd.read_sql('''SELECT * FROM Economy''', conn).to_sql('economy', connfinal)\n",
    "pd.read_sql('''SELECT * FROM Played''', conn).to_sql('played', connfinal)\n",
    "pd.read_sql('''SELECT * FROM ItemEco''', conn).to_sql('itemeco', connfinal)\n",
    "pd.read_sql('''SELECT * FROM ItemMain''', conn).to_sql('itemmain', connfinal)"
   ]
  },
  {
   "cell_type": "code",
   "execution_count": null,
   "metadata": {},
   "outputs": [],
   "source": []
  }
 ],
 "metadata": {
  "kernelspec": {
   "display_name": "Python 3",
   "language": "python",
   "name": "python3"
  },
  "language_info": {
   "codemirror_mode": {
    "name": "ipython",
    "version": 3
   },
   "file_extension": ".py",
   "mimetype": "text/x-python",
   "name": "python",
   "nbconvert_exporter": "python",
   "pygments_lexer": "ipython3",
   "version": "3.7.3"
  },
  "toc": {
   "base_numbering": 1,
   "nav_menu": {},
   "number_sections": true,
   "sideBar": true,
   "skip_h1_title": false,
   "title_cell": "Table of Contents",
   "title_sidebar": "Contents",
   "toc_cell": false,
   "toc_position": {},
   "toc_section_display": true,
   "toc_window_display": false
  }
 },
 "nbformat": 4,
 "nbformat_minor": 2
}
